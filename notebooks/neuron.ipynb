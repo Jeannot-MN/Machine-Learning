{
 "cells": [
  {
   "cell_type": "code",
   "execution_count": 1,
   "id": "initial_id",
   "metadata": {
    "collapsed": true,
    "ExecuteTime": {
     "end_time": "2024-03-08T04:25:49.499587800Z",
     "start_time": "2024-03-08T04:25:48.553467700Z"
    }
   },
   "outputs": [],
   "source": [
    "import numpy as np\n",
    "import matplotlib.pyplot as plt"
   ]
  },
  {
   "cell_type": "code",
   "execution_count": null,
   "outputs": [],
   "source": [
    "class Neuron:\n",
    "    def __init__(self, input_size, activation='sigmoid'):\n",
    "        self.weights = np.random.randn(input_size)\n",
    "        self.bias = np.random.randn()\n",
    "        \n",
    "        if activation not in ['relu', 'sigmoid', 'tanh']:\n",
    "            raise ValueError(\"Invalid activation function\")\n",
    "        self.activation = activation\n",
    "\n",
    "    def forward(self, _input):\n",
    "        z = (_input @ self.weights) + self.bias\n",
    "\n",
    "        output = 0\n",
    "        if self.activation == 'sigmoid':\n",
    "            output = 1 / (1 + np.exp(-z))\n",
    "        elif self.activation == 'relu':\n",
    "            output = max(0, z)\n",
    "        elif self.activation == 'tanh':\n",
    "            output = np.tanh(z)\n",
    "        \n",
    "        return output\n",
    "        "
   ],
   "metadata": {
    "collapsed": false
   },
   "id": "8f51259116c5943b"
  },
  {
   "cell_type": "code",
   "execution_count": 5,
   "outputs": [
    {
     "data": {
      "text/plain": "5.0"
     },
     "execution_count": 5,
     "metadata": {},
     "output_type": "execute_result"
    }
   ],
   "source": [
    "np.ones(5) @ np.ones(5)"
   ],
   "metadata": {
    "collapsed": false,
    "ExecuteTime": {
     "end_time": "2024-03-08T04:29:49.397131900Z",
     "start_time": "2024-03-08T04:29:49.393618900Z"
    }
   },
   "id": "4f73534b73f8221b"
  }
 ],
 "metadata": {
  "kernelspec": {
   "display_name": "Python 3",
   "language": "python",
   "name": "python3"
  },
  "language_info": {
   "codemirror_mode": {
    "name": "ipython",
    "version": 2
   },
   "file_extension": ".py",
   "mimetype": "text/x-python",
   "name": "python",
   "nbconvert_exporter": "python",
   "pygments_lexer": "ipython2",
   "version": "2.7.6"
  }
 },
 "nbformat": 4,
 "nbformat_minor": 5
}
