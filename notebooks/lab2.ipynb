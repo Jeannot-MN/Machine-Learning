{
 "cells": [
  {
   "cell_type": "code",
   "execution_count": 2,
   "outputs": [],
   "source": [
    "import numpy as np"
   ],
   "metadata": {
    "collapsed": false,
    "ExecuteTime": {
     "end_time": "2024-02-29T10:59:46.564646100Z",
     "start_time": "2024-02-29T10:59:46.395477900Z"
    }
   },
   "id": "b1cfa724a3894989"
  },
  {
   "cell_type": "code",
   "execution_count": 12,
   "outputs": [],
   "source": [
    "class Layer:\n",
    "    def __int__(self, weights, nodes_count, biases):\n",
    "        print()\n",
    "        \n",
    "class NeuralNetwork:\n",
    "    # hidden_layers = 1\n",
    "    # node_per_hidden_layer = 6\n",
    "\n",
    "    def __init__(self):\n",
    "        self._input = None\n",
    "        self.input_layer_weights = None\n",
    "        self.input_layer_biases = None\n",
    "\n",
    "    def __int__(self, _input):\n",
    "        self._input = _input\n",
    "        self.input_layer_weights = np.random.uniform(-2,2,(_input.size,_input.size))\n",
    "        self.input_layer_biases = np.random.rand(_input.size) * 5\n",
    "    \n",
    "    def manual_set(self, _input, input_layer_weights, input_layer_biases):\n",
    "        self._input = _input\n",
    "        self.input_layer_weights = input_layer_weights\n",
    "        self.input_layer_biases = input_layer_biases\n",
    "        \n",
    "    def compute_feed_forward(self):\n",
    "        return self.sigmoid(self._input.dot(self.input_layer_weights) + self.input_layer_biases)\n",
    "    \n",
    "    def sigmoid(self, value):\n",
    "        return 1 / (1 + np.exp(-value))\n",
    "        "
   ],
   "metadata": {
    "collapsed": false,
    "ExecuteTime": {
     "end_time": "2024-02-29T11:18:11.838485500Z",
     "start_time": "2024-02-29T11:18:11.831600400Z"
    }
   },
   "id": "initial_id"
  },
  {
   "cell_type": "code",
   "execution_count": 13,
   "outputs": [],
   "source": [
    "nn = NeuralNetwork()\n",
    "nn.manual_set(np.array([1, 1]), np.array([[1, 1], [1, 1]]), np.array([1, 1]))"
   ],
   "metadata": {
    "collapsed": false,
    "ExecuteTime": {
     "end_time": "2024-02-29T11:18:14.394711900Z",
     "start_time": "2024-02-29T11:18:14.390700700Z"
    }
   },
   "id": "1e32d9e916b90b79"
  },
  {
   "cell_type": "code",
   "execution_count": 19,
   "outputs": [
    {
     "data": {
      "text/plain": "array([0.95257413, 0.95257413])"
     },
     "execution_count": 19,
     "metadata": {},
     "output_type": "execute_result"
    }
   ],
   "source": [
    "# np.array([1, 1]).dot(np.array([[1, 1], [1, 1]])) + np.array([1, 1])\n",
    "nn.sigmoid(np.array([3,3]))"
   ],
   "metadata": {
    "collapsed": false,
    "ExecuteTime": {
     "end_time": "2024-02-29T11:20:31.066831100Z",
     "start_time": "2024-02-29T11:20:31.055520400Z"
    }
   },
   "id": "f9ee9812c2d8d444"
  }
 ],
 "metadata": {
  "kernelspec": {
   "display_name": "Python 3",
   "language": "python",
   "name": "python3"
  },
  "language_info": {
   "codemirror_mode": {
    "name": "ipython",
    "version": 2
   },
   "file_extension": ".py",
   "mimetype": "text/x-python",
   "name": "python",
   "nbconvert_exporter": "python",
   "pygments_lexer": "ipython2",
   "version": "2.7.6"
  }
 },
 "nbformat": 4,
 "nbformat_minor": 5
}
