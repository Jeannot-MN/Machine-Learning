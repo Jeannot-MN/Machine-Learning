{
 "cells": [
  {
   "cell_type": "code",
   "execution_count": 5,
   "id": "initial_id",
   "metadata": {
    "collapsed": true,
    "ExecuteTime": {
     "end_time": "2024-02-26T13:43:17.818758300Z",
     "start_time": "2024-02-26T13:43:17.703202300Z"
    }
   },
   "outputs": [
    {
     "name": "stdout",
     "output_type": "stream",
     "text": [
      "[1, 2, [3, 'List'], 4, 5]\n"
     ]
    }
   ],
   "source": [
    "list1 = [1,2,[3, \"List\"],4,5]\n",
    "print(list1)"
   ]
  },
  {
   "cell_type": "code",
   "execution_count": 17,
   "outputs": [
    {
     "name": "stdout",
     "output_type": "stream",
     "text": [
      "[1 2 3 4]\n",
      "[1, 2, 3, 4]\n",
      "[0 1 2 3 4 5 6 7 8 9]\n"
     ]
    }
   ],
   "source": [
    "import numpy as np\n",
    "\n",
    "num_list  = np.array([1,2,3,4])\n",
    "print(num_list)\n",
    "\n",
    "num_copy = [i for i in num_list]\n",
    "print(num_copy)\n",
    "\n",
    "num_range = np.arange(10)\n",
    "print(num_range)"
   ],
   "metadata": {
    "collapsed": false,
    "ExecuteTime": {
     "end_time": "2024-02-26T13:48:09.213887700Z",
     "start_time": "2024-02-26T13:48:09.202537900Z"
    }
   },
   "id": "da63a83ca4cd5ef"
  },
  {
   "cell_type": "code",
   "execution_count": 18,
   "outputs": [
    {
     "data": {
      "text/plain": "(4,)"
     },
     "execution_count": 18,
     "metadata": {},
     "output_type": "execute_result"
    }
   ],
   "source": [
    "num_list.shape"
   ],
   "metadata": {
    "collapsed": false,
    "ExecuteTime": {
     "end_time": "2024-02-26T13:48:38.359881300Z",
     "start_time": "2024-02-26T13:48:38.336716500Z"
    }
   },
   "id": "844862c5511aea7b"
  },
  {
   "cell_type": "code",
   "execution_count": 21,
   "outputs": [
    {
     "name": "stdout",
     "output_type": "stream",
     "text": [
      "[1 2 3 4]\n"
     ]
    },
    {
     "data": {
      "text/plain": "(4,)"
     },
     "execution_count": 21,
     "metadata": {},
     "output_type": "execute_result"
    }
   ],
   "source": [
    "trans_num_list = num_list.transpose()\n",
    "print(trans_num_list)\n",
    "trans_num_list.shape"
   ],
   "metadata": {
    "collapsed": false,
    "ExecuteTime": {
     "end_time": "2024-02-26T13:49:03.157756600Z",
     "start_time": "2024-02-26T13:49:03.121409600Z"
    }
   },
   "id": "8707ccebef011aeb"
  },
  {
   "cell_type": "code",
   "execution_count": 23,
   "outputs": [
    {
     "data": {
      "text/plain": "array([0, 2, 4, 6, 8])"
     },
     "execution_count": 23,
     "metadata": {},
     "output_type": "execute_result"
    }
   ],
   "source": [
    "np_range_1 = np.arange(0, 10, 2)\n",
    "np_range_1"
   ],
   "metadata": {
    "collapsed": false,
    "ExecuteTime": {
     "end_time": "2024-02-26T13:49:31.443471600Z",
     "start_time": "2024-02-26T13:49:31.399789600Z"
    }
   },
   "id": "9881188910d0f657"
  },
  {
   "cell_type": "code",
   "execution_count": 29,
   "outputs": [
    {
     "name": "stdout",
     "output_type": "stream",
     "text": [
      "[0. 0. 0. 0. 0. 0. 0. 0. 0. 0.]\n",
      "(10,)\n"
     ]
    }
   ],
   "source": [
    "np_zeros = np.zeros(10)\n",
    "print(np_zeros)\n",
    "print(np_zeros.shape)"
   ],
   "metadata": {
    "collapsed": false,
    "ExecuteTime": {
     "end_time": "2024-02-26T14:01:48.075185800Z",
     "start_time": "2024-02-26T14:01:48.016298Z"
    }
   },
   "id": "caf96814db4290d1"
  },
  {
   "cell_type": "code",
   "execution_count": 31,
   "outputs": [
    {
     "name": "stdout",
     "output_type": "stream",
     "text": [
      "[[0. 0. 0. 0. 0. 0. 0. 0. 0. 0.]\n",
      " [0. 0. 0. 0. 0. 0. 0. 0. 0. 0.]\n",
      " [0. 0. 0. 0. 0. 0. 0. 0. 0. 0.]]\n",
      "(3, 10)\n"
     ]
    }
   ],
   "source": [
    "np_zeros = np.zeros((3,  10))\n",
    "print(np_zeros)\n",
    "print(np_zeros.shape)"
   ],
   "metadata": {
    "collapsed": false,
    "ExecuteTime": {
     "end_time": "2024-02-26T14:02:34.647972800Z",
     "start_time": "2024-02-26T14:02:34.636789700Z"
    }
   },
   "id": "a4c45dc4692a4c15"
  },
  {
   "cell_type": "code",
   "execution_count": 33,
   "outputs": [
    {
     "name": "stdout",
     "output_type": "stream",
     "text": [
      "[[5 5 5 5 5 5 5 5 5 5]\n",
      " [5 5 5 5 5 5 5 5 5 5]\n",
      " [5 5 5 5 5 5 5 5 5 5]]\n",
      "(3, 10)\n"
     ]
    }
   ],
   "source": [
    "np_full = np.full((3, 10), 5)\n",
    "print(np_full)\n",
    "print(np_full.shape)"
   ],
   "metadata": {
    "collapsed": false,
    "ExecuteTime": {
     "end_time": "2024-02-26T14:03:08.375929500Z",
     "start_time": "2024-02-26T14:03:08.372480600Z"
    }
   },
   "id": "c0ad1afa020268a6"
  },
  {
   "cell_type": "code",
   "execution_count": 36,
   "outputs": [
    {
     "name": "stdout",
     "output_type": "stream",
     "text": [
      "[[1 2]\n",
      " [2 3]]\n",
      "(2, 2)\n"
     ]
    }
   ],
   "source": [
    "np_convert = np.array([[1,2], [2,3]])\n",
    "print(np_convert)\n",
    "print(np_convert.shape)"
   ],
   "metadata": {
    "collapsed": false,
    "ExecuteTime": {
     "end_time": "2024-02-26T14:04:29.763971800Z",
     "start_time": "2024-02-26T14:04:29.758442300Z"
    }
   },
   "id": "26c68b7d8b33d1c3"
  },
  {
   "cell_type": "code",
   "execution_count": 44,
   "outputs": [
    {
     "name": "stdout",
     "output_type": "stream",
     "text": [
      "[1 2 3 4 5 6 7 8 9]\n",
      "[2 3 4 5]\n",
      "[4 5 6 7 8 9]\n",
      "[7 8]\n",
      "[2 4]\n",
      "[1 3 5 7 9]\n"
     ]
    }
   ],
   "source": [
    "arr = np.arange(1, 10)\n",
    "print(arr)\n",
    "print(arr[1:5])#Does not include upper limit index\n",
    "print(arr[3:])\n",
    "print(arr[-3:-1])\n",
    "print(arr[1:5:2])#Slice with steps\n",
    "print(arr[::2])#Slice with steps"
   ],
   "metadata": {
    "collapsed": false,
    "ExecuteTime": {
     "end_time": "2024-02-26T14:11:33.981470700Z",
     "start_time": "2024-02-26T14:11:33.980464Z"
    }
   },
   "id": "40fdfc62d20e028a"
  },
  {
   "cell_type": "code",
   "execution_count": 54,
   "outputs": [
    {
     "name": "stdout",
     "output_type": "stream",
     "text": [
      "[[ 1  2]\n",
      " [ 3  4]\n",
      " [ 5  6]\n",
      " [ 7  8]\n",
      " [ 9 10]]\n",
      "[[3 4]]\n",
      "[[4]]\n",
      "[[4]\n",
      " [6]\n",
      " [8]]\n"
     ]
    }
   ],
   "source": [
    "arr_2d = np.arange(1, 11).reshape((5,2))\n",
    "print(arr_2d)\n",
    "print(arr_2d[1:2])\n",
    "print(arr_2d[1:2, 1::])\n",
    "print(arr_2d[1:4, 1::])"
   ],
   "metadata": {
    "collapsed": false,
    "ExecuteTime": {
     "end_time": "2024-02-26T14:18:59.359622700Z",
     "start_time": "2024-02-26T14:18:59.357576700Z"
    }
   },
   "id": "fb4b2afaa5b8f033"
  }
 ],
 "metadata": {
  "kernelspec": {
   "display_name": "Python 3",
   "language": "python",
   "name": "python3"
  },
  "language_info": {
   "codemirror_mode": {
    "name": "ipython",
    "version": 2
   },
   "file_extension": ".py",
   "mimetype": "text/x-python",
   "name": "python",
   "nbconvert_exporter": "python",
   "pygments_lexer": "ipython2",
   "version": "2.7.6"
  }
 },
 "nbformat": 4,
 "nbformat_minor": 5
}
