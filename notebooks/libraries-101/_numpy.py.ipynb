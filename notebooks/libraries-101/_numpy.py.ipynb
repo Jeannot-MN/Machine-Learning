{
 "cells": [
  {
   "cell_type": "code",
   "execution_count": 5,
   "id": "initial_id",
   "metadata": {
    "collapsed": true,
    "ExecuteTime": {
     "end_time": "2024-02-26T13:43:17.818758300Z",
     "start_time": "2024-02-26T13:43:17.703202300Z"
    }
   },
   "outputs": [
    {
     "name": "stdout",
     "output_type": "stream",
     "text": [
      "[1, 2, [3, 'List'], 4, 5]\n"
     ]
    }
   ],
   "source": [
    "list1 = [1,2,[3, \"List\"],4,5]\n",
    "print(list1)"
   ]
  },
  {
   "cell_type": "code",
   "execution_count": 17,
   "outputs": [
    {
     "name": "stdout",
     "output_type": "stream",
     "text": [
      "[1 2 3 4]\n",
      "[1, 2, 3, 4]\n",
      "[0 1 2 3 4 5 6 7 8 9]\n"
     ]
    }
   ],
   "source": [
    "import numpy as np\n",
    "\n",
    "num_list  = np.array([1,2,3,4])\n",
    "print(num_list)\n",
    "\n",
    "num_copy = [i for i in num_list]\n",
    "print(num_copy)\n",
    "\n",
    "num_range = np.arange(10)\n",
    "print(num_range)"
   ],
   "metadata": {
    "collapsed": false,
    "ExecuteTime": {
     "end_time": "2024-02-26T13:48:09.213887700Z",
     "start_time": "2024-02-26T13:48:09.202537900Z"
    }
   },
   "id": "da63a83ca4cd5ef"
  },
  {
   "cell_type": "code",
   "execution_count": 18,
   "outputs": [
    {
     "data": {
      "text/plain": "(4,)"
     },
     "execution_count": 18,
     "metadata": {},
     "output_type": "execute_result"
    }
   ],
   "source": [
    "num_list.shape"
   ],
   "metadata": {
    "collapsed": false,
    "ExecuteTime": {
     "end_time": "2024-02-26T13:48:38.359881300Z",
     "start_time": "2024-02-26T13:48:38.336716500Z"
    }
   },
   "id": "844862c5511aea7b"
  },
  {
   "cell_type": "code",
   "execution_count": 21,
   "outputs": [
    {
     "name": "stdout",
     "output_type": "stream",
     "text": [
      "[1 2 3 4]\n"
     ]
    },
    {
     "data": {
      "text/plain": "(4,)"
     },
     "execution_count": 21,
     "metadata": {},
     "output_type": "execute_result"
    }
   ],
   "source": [
    "trans_num_list = num_list.transpose()\n",
    "print(trans_num_list)\n",
    "trans_num_list.shape"
   ],
   "metadata": {
    "collapsed": false,
    "ExecuteTime": {
     "end_time": "2024-02-26T13:49:03.157756600Z",
     "start_time": "2024-02-26T13:49:03.121409600Z"
    }
   },
   "id": "8707ccebef011aeb"
  },
  {
   "cell_type": "code",
   "execution_count": 23,
   "outputs": [
    {
     "data": {
      "text/plain": "array([0, 2, 4, 6, 8])"
     },
     "execution_count": 23,
     "metadata": {},
     "output_type": "execute_result"
    }
   ],
   "source": [
    "np_range_1 = np.arange(0, 10, 2)\n",
    "np_range_1"
   ],
   "metadata": {
    "collapsed": false,
    "ExecuteTime": {
     "end_time": "2024-02-26T13:49:31.443471600Z",
     "start_time": "2024-02-26T13:49:31.399789600Z"
    }
   },
   "id": "9881188910d0f657"
  },
  {
   "cell_type": "code",
   "execution_count": 29,
   "outputs": [
    {
     "name": "stdout",
     "output_type": "stream",
     "text": [
      "[0. 0. 0. 0. 0. 0. 0. 0. 0. 0.]\n",
      "(10,)\n"
     ]
    }
   ],
   "source": [
    "np_zeros = np.zeros(10)\n",
    "print(np_zeros)\n",
    "print(np_zeros.shape)"
   ],
   "metadata": {
    "collapsed": false,
    "ExecuteTime": {
     "end_time": "2024-02-26T14:01:48.075185800Z",
     "start_time": "2024-02-26T14:01:48.016298Z"
    }
   },
   "id": "caf96814db4290d1"
  },
  {
   "cell_type": "code",
   "execution_count": 31,
   "outputs": [
    {
     "name": "stdout",
     "output_type": "stream",
     "text": [
      "[[0. 0. 0. 0. 0. 0. 0. 0. 0. 0.]\n",
      " [0. 0. 0. 0. 0. 0. 0. 0. 0. 0.]\n",
      " [0. 0. 0. 0. 0. 0. 0. 0. 0. 0.]]\n",
      "(3, 10)\n"
     ]
    }
   ],
   "source": [
    "np_zeros = np.zeros((3,  10))\n",
    "print(np_zeros)\n",
    "print(np_zeros.shape)"
   ],
   "metadata": {
    "collapsed": false,
    "ExecuteTime": {
     "end_time": "2024-02-26T14:02:34.647972800Z",
     "start_time": "2024-02-26T14:02:34.636789700Z"
    }
   },
   "id": "a4c45dc4692a4c15"
  },
  {
   "cell_type": "code",
   "execution_count": 33,
   "outputs": [
    {
     "name": "stdout",
     "output_type": "stream",
     "text": [
      "[[5 5 5 5 5 5 5 5 5 5]\n",
      " [5 5 5 5 5 5 5 5 5 5]\n",
      " [5 5 5 5 5 5 5 5 5 5]]\n",
      "(3, 10)\n"
     ]
    }
   ],
   "source": [
    "np_full = np.full((3, 10), 5)\n",
    "print(np_full)\n",
    "print(np_full.shape)"
   ],
   "metadata": {
    "collapsed": false,
    "ExecuteTime": {
     "end_time": "2024-02-26T14:03:08.375929500Z",
     "start_time": "2024-02-26T14:03:08.372480600Z"
    }
   },
   "id": "c0ad1afa020268a6"
  },
  {
   "cell_type": "code",
   "execution_count": 36,
   "outputs": [
    {
     "name": "stdout",
     "output_type": "stream",
     "text": [
      "[[1 2]\n",
      " [2 3]]\n",
      "(2, 2)\n"
     ]
    }
   ],
   "source": [
    "np_convert = np.array([[1,2], [2,3]])\n",
    "print(np_convert)\n",
    "print(np_convert.shape)"
   ],
   "metadata": {
    "collapsed": false,
    "ExecuteTime": {
     "end_time": "2024-02-26T14:04:29.763971800Z",
     "start_time": "2024-02-26T14:04:29.758442300Z"
    }
   },
   "id": "26c68b7d8b33d1c3"
  },
  {
   "cell_type": "code",
   "execution_count": 44,
   "outputs": [
    {
     "name": "stdout",
     "output_type": "stream",
     "text": [
      "[1 2 3 4 5 6 7 8 9]\n",
      "[2 3 4 5]\n",
      "[4 5 6 7 8 9]\n",
      "[7 8]\n",
      "[2 4]\n",
      "[1 3 5 7 9]\n"
     ]
    }
   ],
   "source": [
    "arr = np.arange(1, 10)\n",
    "print(arr)\n",
    "print(arr[1:5])#Does not include upper limit index\n",
    "print(arr[3:])\n",
    "print(arr[-3:-1])\n",
    "print(arr[1:5:2])#Slice with steps\n",
    "print(arr[::2])#Slice with steps"
   ],
   "metadata": {
    "collapsed": false,
    "ExecuteTime": {
     "end_time": "2024-02-26T14:11:33.981470700Z",
     "start_time": "2024-02-26T14:11:33.980464Z"
    }
   },
   "id": "40fdfc62d20e028a"
  },
  {
   "cell_type": "code",
   "execution_count": 55,
   "outputs": [
    {
     "name": "stdout",
     "output_type": "stream",
     "text": [
      "[[ 1  2]\n",
      " [ 3  4]\n",
      " [ 5  6]\n",
      " [ 7  8]\n",
      " [ 9 10]]\n",
      "[[3 4]]\n",
      "[[4]]\n",
      "[[4]\n",
      " [6]\n",
      " [8]]\n"
     ]
    }
   ],
   "source": [
    "arr_2d = np.arange(1, 11).reshape((5,2))\n",
    "print(arr_2d)\n",
    "print(arr_2d[1:2])\n",
    "print(arr_2d[1:2, 1::])\n",
    "print(arr_2d[1:4, 1::])"
   ],
   "metadata": {
    "collapsed": false,
    "ExecuteTime": {
     "end_time": "2024-02-26T14:20:37.403033200Z",
     "start_time": "2024-02-26T14:20:37.347412900Z"
    }
   },
   "id": "fb4b2afaa5b8f033"
  },
  {
   "cell_type": "code",
   "execution_count": 64,
   "outputs": [
    {
     "name": "stdout",
     "output_type": "stream",
     "text": [
      "[ 0  1  4  9 16 25 36 49 64 81]\n",
      "[0. 1. 2. 3. 4. 5. 6. 7. 8. 9.]\n"
     ]
    }
   ],
   "source": [
    "#Find square root of each element in array\n",
    "# arr = np.array([i*i for i in range(10)])\n",
    "arr = np.square([i for i in range(10)])\n",
    "print(arr)\n",
    "print(np.sqrt(arr))\n"
   ],
   "metadata": {
    "collapsed": false,
    "ExecuteTime": {
     "end_time": "2024-02-26T14:26:57.477052500Z",
     "start_time": "2024-02-26T14:26:57.471416500Z"
    }
   },
   "id": "69f59792a4c48e4e"
  },
  {
   "cell_type": "code",
   "execution_count": 66,
   "outputs": [
    {
     "name": "stdout",
     "output_type": "stream",
     "text": [
      "0\n",
      "81\n"
     ]
    }
   ],
   "source": [
    "print(np.min(arr))\n",
    "print(np.max(arr))"
   ],
   "metadata": {
    "collapsed": false,
    "ExecuteTime": {
     "end_time": "2024-02-26T14:28:48.179485700Z",
     "start_time": "2024-02-26T14:28:48.175455800Z"
    }
   },
   "id": "524e7325eb1a0570"
  },
  {
   "cell_type": "code",
   "execution_count": 67,
   "outputs": [
    {
     "data": {
      "text/plain": "array([1, 2, 4, 5])"
     },
     "execution_count": 67,
     "metadata": {},
     "output_type": "execute_result"
    }
   ],
   "source": [
    "np.absolute([1, -2, 4, -5])"
   ],
   "metadata": {
    "collapsed": false,
    "ExecuteTime": {
     "end_time": "2024-02-26T14:29:38.266973900Z",
     "start_time": "2024-02-26T14:29:38.229028500Z"
    }
   },
   "id": "ca202e5681ec3cb9"
  },
  {
   "cell_type": "code",
   "execution_count": 68,
   "outputs": [],
   "source": [
    "# np.sin, np.cos, np.log\n",
    "# these are called universal functions"
   ],
   "metadata": {
    "collapsed": false,
    "ExecuteTime": {
     "end_time": "2024-02-26T14:31:49.531650500Z",
     "start_time": "2024-02-26T14:31:49.505389100Z"
    }
   },
   "id": "769ab4a877894916"
  },
  {
   "cell_type": "code",
   "execution_count": 75,
   "outputs": [
    {
     "name": "stdout",
     "output_type": "stream",
     "text": [
      "Original A1-> [ 1  4  7 10 13 16 19 22]\n",
      "Original A2-> [ 1  4  7 10 13 16 19 22]\n",
      "After arr modification A1-> [-1  4  7 10 13 16 19 22]\n",
      "After arr modification A2-> [-1  4  7 10 13 16 19 22]\n",
      "After arr_2 modification A1-> [-1  4  7 10 13 16 19 -1]\n",
      "After arr_2 modification A2-> [-1  4  7 10 13 16 19 -1]\n",
      "After arr_copy modification A1-> [-1  4  7 10 13 16 19 -1]\n",
      "After arr_copy modification A_copy-> [-1  4 10 10 13 16 19 -1]\n"
     ]
    }
   ],
   "source": [
    "arr = np.arange(1, 25, 3)\n",
    "print(f'Original A1-> {arr}')\n",
    "\n",
    "#This creates a reference to the same array\n",
    "arr_2 = arr.view()\n",
    "print(f'Original A2-> {arr_2}')\n",
    "\n",
    "arr[0] = -1\n",
    "print(f'After arr modification A1-> {arr}')\n",
    "print(f'After arr modification A2-> {arr_2}')\n",
    "\n",
    "arr_2[-1] = -1\n",
    "print(f'After arr_2 modification A1-> {arr}')\n",
    "print(f'After arr_2 modification A2-> {arr_2}')\n",
    "\n",
    "#A shallow copy would be achieved with \n",
    "arr_copy = arr.copy()\n",
    "arr_copy[2] = 10\n",
    "print(f'After arr_copy modification A1-> {arr}')\n",
    "print(f'After arr_copy modification A_copy-> {arr_copy}')"
   ],
   "metadata": {
    "collapsed": false,
    "ExecuteTime": {
     "end_time": "2024-02-26T14:37:48.356676400Z",
     "start_time": "2024-02-26T14:37:48.325026100Z"
    }
   },
   "id": "8e0d9bd861b4ec3f"
  },
  {
   "cell_type": "code",
   "execution_count": 89,
   "outputs": [
    {
     "name": "stdout",
     "output_type": "stream",
     "text": [
      "[ 0  1  2  3  4  5  6  7  8  9 10 11 12 13 14 15 16 17 18 19 20 21 22 23\n",
      " 24]\n",
      "(25,)\n",
      "[[ 0  1  2  3  4]\n",
      " [ 5  6  7  8  9]\n",
      " [10 11 12 13 14]\n",
      " [15 16 17 18 19]\n",
      " [20 21 22 23 24]]\n",
      "(5, 5)\n",
      "[ 0  1  2  3  4  5  6  7  8  9 10 11 12 13 14 15 16 17 18 19 20 21 22 23\n",
      " 24]\n",
      "[ 0  1  2  3  4  5  6  7  8  9 10 11 12 13 14 15 16 17 18 19 20 21 22 23\n",
      " 24]\n",
      "[ 0  1  2  3  4  5  6  7  8  9 10 11 12 13 14 15 16 17 18 19 20 21 22 23\n",
      " 24]\n"
     ]
    }
   ],
   "source": [
    "arr = np.arange(0, 25)\n",
    "print(arr)\n",
    "print(arr.shape)\n",
    "\n",
    "arr_2d = arr.reshape((5,5))\n",
    "print(arr_2d)\n",
    "print(arr_2d.shape)\n",
    "\n",
    "print(arr_2d.reshape(-1))\n",
    "print(arr_2d.flatten())\n",
    "print(arr_2d.ravel())"
   ],
   "metadata": {
    "collapsed": false,
    "ExecuteTime": {
     "end_time": "2024-02-26T14:52:36.477714600Z",
     "start_time": "2024-02-26T14:52:36.444562400Z"
    }
   },
   "id": "2dea38c63281af11"
  },
  {
   "cell_type": "code",
   "execution_count": 91,
   "outputs": [
    {
     "name": "stdout",
     "output_type": "stream",
     "text": [
      "[[ 0  1  2  3  4]\n",
      " [ 5  6  7  8  9]\n",
      " [10 11 12 13 14]\n",
      " [15 16 17 18 19]\n",
      " [20 21 22 23 24]]\n",
      "(5, 5)\n",
      "0\n",
      "1\n",
      "2\n",
      "3\n",
      "4\n",
      "5\n",
      "6\n",
      "7\n",
      "8\n",
      "9\n",
      "10\n",
      "11\n",
      "12\n",
      "13\n",
      "14\n",
      "15\n",
      "16\n",
      "17\n",
      "18\n",
      "19\n",
      "20\n",
      "21\n",
      "22\n",
      "23\n",
      "24\n"
     ]
    }
   ],
   "source": [
    "arr_2d = np.arange(0, 25).reshape((5,5))\n",
    "print(arr_2d)\n",
    "print(arr_2d.shape)\n",
    "\n",
    "for x in np.nditer(arr_2d):\n",
    "    print(x)"
   ],
   "metadata": {
    "collapsed": false,
    "ExecuteTime": {
     "end_time": "2024-02-26T14:58:44.023896700Z",
     "start_time": "2024-02-26T14:58:44.017285100Z"
    }
   },
   "id": "2df014eac23d3fd"
  },
  {
   "cell_type": "code",
   "execution_count": 94,
   "outputs": [
    {
     "name": "stdout",
     "output_type": "stream",
     "text": [
      "[ 0  2  4  6  8 10 12 14 16 18 20 22 24]\n",
      "[True, False, True, False, True, False, True, False, True, False, True, False, True, False, True, False, True, False, True, False, True, False, True, False, True]\n",
      "[ 0  2  4  6  8 10 12 14 16 18 20 22 24]\n",
      "[ True False  True False  True False  True False  True False  True False\n",
      "  True False  True False  True False  True False  True False  True False\n",
      "  True]\n",
      "[ 0  2  4  6  8 10 12 14 16 18 20 22 24]\n"
     ]
    }
   ],
   "source": [
    "#print even numbers in array\n",
    "#where return the indexes\n",
    "arr = np.arange(0, 25)\n",
    "print(arr[np.where(arr % 2 == 0)[0]])\n",
    "\n",
    "\n",
    "bool_index_list = [i % 2 == 0 for i in arr]\n",
    "print(bool_index_list)\n",
    "print(arr[bool_index_list])\n",
    "\n",
    "bool_index_list = arr % 2 == 0\n",
    "print(bool_index_list)\n",
    "print(arr[bool_index_list])"
   ],
   "metadata": {
    "collapsed": false,
    "ExecuteTime": {
     "end_time": "2024-02-26T15:16:56.049001300Z",
     "start_time": "2024-02-26T15:16:56.046993800Z"
    }
   },
   "id": "9730d0f8b609d9d"
  }
 ],
 "metadata": {
  "kernelspec": {
   "display_name": "Python 3",
   "language": "python",
   "name": "python3"
  },
  "language_info": {
   "codemirror_mode": {
    "name": "ipython",
    "version": 2
   },
   "file_extension": ".py",
   "mimetype": "text/x-python",
   "name": "python",
   "nbconvert_exporter": "python",
   "pygments_lexer": "ipython2",
   "version": "2.7.6"
  }
 },
 "nbformat": 4,
 "nbformat_minor": 5
}
