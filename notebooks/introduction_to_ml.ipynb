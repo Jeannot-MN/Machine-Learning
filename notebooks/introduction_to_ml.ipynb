{
 "cells": [
  {
   "cell_type": "markdown",
   "source": [
    "## What is Machine Learning?\n",
    "\n",
    "> Machine learning is a field of Artificial intelligence whose aim is to create computer programs that can learn from data and experience.\n",
    "\n",
    "## Types of machine learning\n",
    " 1. Supervised Learning: In this type of learning, example inputs are shown together with the correct output.\n",
    ">Most popular algorithms here are regression(predicting a continuous value) and classification(predicting a discrete value).\n",
    "\n",
    " 2. Unsupervised Learning: In this case we are given unlabelled data, and the model should get insights from this data(cluster, group)."
   ],
   "metadata": {
    "collapsed": false
   },
   "id": "ef963214c84a4523"
  }
 ],
 "metadata": {
  "kernelspec": {
   "display_name": "Python 3",
   "language": "python",
   "name": "python3"
  },
  "language_info": {
   "codemirror_mode": {
    "name": "ipython",
    "version": 2
   },
   "file_extension": ".py",
   "mimetype": "text/x-python",
   "name": "python",
   "nbconvert_exporter": "python",
   "pygments_lexer": "ipython2",
   "version": "2.7.6"
  }
 },
 "nbformat": 4,
 "nbformat_minor": 5
}
