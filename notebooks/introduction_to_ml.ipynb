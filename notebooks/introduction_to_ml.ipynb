{
 "cells": [
  {
   "cell_type": "markdown",
   "source": [
    "## What is Machine Learning?\n",
    "\n",
    "> Machine learning is a field of Artificial intelligence whose aim is to create computer programs that can learn from data and experience.\n",
    "\n",
    "## Types of machine learning\n",
    " 1. Supervised Learning: In this type of learning, example inputs are shown together with the correct output.\n",
    ">Most popular algorithms here are regression(predicting a continuous value) and classification(predicting a discrete value).\n",
    "\n",
    " 2. Unsupervised Learning "
   ],
   "metadata": {
    "collapsed": false
   },
   "id": "ef963214c84a4523"
  },
  {
   "cell_type": "code",
   "execution_count": null,
   "outputs": [],
   "source": [],
   "metadata": {
    "collapsed": false
   },
   "id": "53db99227a7e17f6"
  }
 ],
 "metadata": {
  "kernelspec": {
   "display_name": "Python 3",
   "language": "python",
   "name": "python3"
  },
  "language_info": {
   "codemirror_mode": {
    "name": "ipython",
    "version": 2
   },
   "file_extension": ".py",
   "mimetype": "text/x-python",
   "name": "python",
   "nbconvert_exporter": "python",
   "pygments_lexer": "ipython2",
   "version": "2.7.6"
  }
 },
 "nbformat": 4,
 "nbformat_minor": 5
}
