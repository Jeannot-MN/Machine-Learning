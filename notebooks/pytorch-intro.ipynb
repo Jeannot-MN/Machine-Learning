{
 "cells": [
  {
   "cell_type": "code",
   "execution_count": 54,
   "id": "initial_id",
   "metadata": {
    "collapsed": true,
    "ExecuteTime": {
     "end_time": "2024-05-11T09:48:32.535122700Z",
     "start_time": "2024-05-11T09:48:32.526016200Z"
    }
   },
   "outputs": [],
   "source": [
    "import numpy as np\n",
    "import torch\n",
    "from torch import nn\n",
    "from torch.utils.data import DataLoader\n",
    "\n",
    "import torchvision\n",
    "from torchvision.datasets import FashionMNIST\n",
    "\n",
    "from torchvision.datasets import CIFAR10\n",
    "from torchvision.transforms import Compose, ToTensor, Normalize\n",
    "from torchvision.utils import make_grid\n",
    "\n",
    "import matplotlib.pyplot as plt"
   ]
  },
  {
   "cell_type": "code",
   "execution_count": 28,
   "outputs": [
    {
     "data": {
      "text/plain": "tensor([[0, 1, 2],\n        [3, 4, 5],\n        [6, 7, 8]])"
     },
     "execution_count": 28,
     "metadata": {},
     "output_type": "execute_result"
    }
   ],
   "source": [
    "new_tensor = torch.tensor([[0,1,2], [3,4,5], [6,7,8]])\n",
    "new_tensor"
   ],
   "metadata": {
    "collapsed": false,
    "ExecuteTime": {
     "end_time": "2024-05-11T09:33:56.013227100Z",
     "start_time": "2024-05-11T09:33:56.006365200Z"
    }
   },
   "id": "e6c4229db40a5f4c"
  },
  {
   "cell_type": "code",
   "execution_count": 29,
   "outputs": [
    {
     "ename": "AssertionError",
     "evalue": "Torch not compiled with CUDA enabled",
     "output_type": "error",
     "traceback": [
      "\u001B[1;31m---------------------------------------------------------------------------\u001B[0m",
      "\u001B[1;31mAssertionError\u001B[0m                            Traceback (most recent call last)",
      "Cell \u001B[1;32mIn[29], line 1\u001B[0m\n\u001B[1;32m----> 1\u001B[0m \u001B[43mnew_tensor\u001B[49m\u001B[38;5;241;43m.\u001B[39;49m\u001B[43mto\u001B[49m\u001B[43m(\u001B[49m\u001B[38;5;124;43m'\u001B[39;49m\u001B[38;5;124;43mcuda\u001B[39;49m\u001B[38;5;124;43m'\u001B[39;49m\u001B[43m)\u001B[49m\n",
      "File \u001B[1;32m~\\anaconda3\\envs\\Machine Learning PG\\Lib\\site-packages\\torch\\cuda\\__init__.py:293\u001B[0m, in \u001B[0;36m_lazy_init\u001B[1;34m()\u001B[0m\n\u001B[0;32m    288\u001B[0m     \u001B[38;5;28;01mraise\u001B[39;00m \u001B[38;5;167;01mRuntimeError\u001B[39;00m(\n\u001B[0;32m    289\u001B[0m         \u001B[38;5;124m\"\u001B[39m\u001B[38;5;124mCannot re-initialize CUDA in forked subprocess. To use CUDA with \u001B[39m\u001B[38;5;124m\"\u001B[39m\n\u001B[0;32m    290\u001B[0m         \u001B[38;5;124m\"\u001B[39m\u001B[38;5;124mmultiprocessing, you must use the \u001B[39m\u001B[38;5;124m'\u001B[39m\u001B[38;5;124mspawn\u001B[39m\u001B[38;5;124m'\u001B[39m\u001B[38;5;124m start method\u001B[39m\u001B[38;5;124m\"\u001B[39m\n\u001B[0;32m    291\u001B[0m     )\n\u001B[0;32m    292\u001B[0m \u001B[38;5;28;01mif\u001B[39;00m \u001B[38;5;129;01mnot\u001B[39;00m \u001B[38;5;28mhasattr\u001B[39m(torch\u001B[38;5;241m.\u001B[39m_C, \u001B[38;5;124m\"\u001B[39m\u001B[38;5;124m_cuda_getDeviceCount\u001B[39m\u001B[38;5;124m\"\u001B[39m):\n\u001B[1;32m--> 293\u001B[0m     \u001B[38;5;28;01mraise\u001B[39;00m \u001B[38;5;167;01mAssertionError\u001B[39;00m(\u001B[38;5;124m\"\u001B[39m\u001B[38;5;124mTorch not compiled with CUDA enabled\u001B[39m\u001B[38;5;124m\"\u001B[39m)\n\u001B[0;32m    294\u001B[0m \u001B[38;5;28;01mif\u001B[39;00m _cudart \u001B[38;5;129;01mis\u001B[39;00m \u001B[38;5;28;01mNone\u001B[39;00m:\n\u001B[0;32m    295\u001B[0m     \u001B[38;5;28;01mraise\u001B[39;00m \u001B[38;5;167;01mAssertionError\u001B[39;00m(\n\u001B[0;32m    296\u001B[0m         \u001B[38;5;124m\"\u001B[39m\u001B[38;5;124mlibcudart functions unavailable. It looks like you have a broken build?\u001B[39m\u001B[38;5;124m\"\u001B[39m\n\u001B[0;32m    297\u001B[0m     )\n",
      "\u001B[1;31mAssertionError\u001B[0m: Torch not compiled with CUDA enabled"
     ]
    }
   ],
   "source": [
    "new_tensor.to('cuda')"
   ],
   "metadata": {
    "collapsed": false,
    "ExecuteTime": {
     "end_time": "2024-05-11T09:33:57.295505600Z",
     "start_time": "2024-05-11T09:33:57.268108900Z"
    }
   },
   "id": "4a22b38367dab4a5"
  },
  {
   "cell_type": "code",
   "execution_count": 30,
   "outputs": [
    {
     "data": {
      "text/plain": "tensor([[0, 1, 2],\n        [3, 4, 5],\n        [6, 7, 8]], dtype=torch.int32)"
     },
     "execution_count": 30,
     "metadata": {},
     "output_type": "execute_result"
    }
   ],
   "source": [
    "a = torch.from_numpy(np.array([[0,1,2], [3,4,5], [6,7,8]]))\n",
    "a"
   ],
   "metadata": {
    "collapsed": false,
    "ExecuteTime": {
     "end_time": "2024-05-11T09:33:59.090355700Z",
     "start_time": "2024-05-11T09:33:59.083631300Z"
    }
   },
   "id": "e2c475cfa43178e6"
  },
  {
   "cell_type": "code",
   "execution_count": 31,
   "outputs": [
    {
     "data": {
      "text/plain": "tensor([[0., 0., 0., 0.],\n        [0., 0., 0., 0.],\n        [0., 0., 0., 0.],\n        [0., 0., 0., 0.]])"
     },
     "execution_count": 31,
     "metadata": {},
     "output_type": "execute_result"
    }
   ],
   "source": [
    "torch.zeros(4,4)"
   ],
   "metadata": {
    "collapsed": false,
    "ExecuteTime": {
     "end_time": "2024-05-11T09:33:59.801617600Z",
     "start_time": "2024-05-11T09:33:59.791652200Z"
    }
   },
   "id": "5305e442561b25ca"
  },
  {
   "cell_type": "code",
   "execution_count": 32,
   "outputs": [
    {
     "data": {
      "text/plain": "tensor([[[1., 1.],\n         [1., 1.]],\n\n        [[1., 1.],\n         [1., 1.]],\n\n        [[1., 1.],\n         [1., 1.]]])"
     },
     "execution_count": 32,
     "metadata": {},
     "output_type": "execute_result"
    }
   ],
   "source": [
    "torch.ones(3,2,2)"
   ],
   "metadata": {
    "collapsed": false,
    "ExecuteTime": {
     "end_time": "2024-05-11T09:34:00.366952600Z",
     "start_time": "2024-05-11T09:34:00.359479Z"
    }
   },
   "id": "cc6e809b6a8c641a"
  },
  {
   "cell_type": "code",
   "execution_count": 33,
   "outputs": [],
   "source": [
    "training_data = FashionMNIST(\n",
    "    root='assets/f_mnist',\n",
    "    train=True,\n",
    "    download=True,\n",
    "    transform=torchvision.transforms.ToTensor()\n",
    ")"
   ],
   "metadata": {
    "collapsed": false,
    "ExecuteTime": {
     "end_time": "2024-05-11T09:34:01.065338300Z",
     "start_time": "2024-05-11T09:34:00.999344500Z"
    }
   },
   "id": "b53dcffe22d2a9ea"
  },
  {
   "cell_type": "code",
   "execution_count": 34,
   "outputs": [
    {
     "data": {
      "text/plain": "['T-shirt/top',\n 'Trouser',\n 'Pullover',\n 'Dress',\n 'Coat',\n 'Sandal',\n 'Shirt',\n 'Sneaker',\n 'Bag',\n 'Ankle boot']"
     },
     "execution_count": 34,
     "metadata": {},
     "output_type": "execute_result"
    }
   ],
   "source": [
    "training_data.classes"
   ],
   "metadata": {
    "collapsed": false,
    "ExecuteTime": {
     "end_time": "2024-05-11T09:34:01.933933500Z",
     "start_time": "2024-05-11T09:34:01.927394500Z"
    }
   },
   "id": "a263a6ce76692d94"
  },
  {
   "cell_type": "code",
   "execution_count": 35,
   "outputs": [],
   "source": [
    "train_data_loader = DataLoader(training_data, batch_size=32, shuffle=True)"
   ],
   "metadata": {
    "collapsed": false,
    "ExecuteTime": {
     "end_time": "2024-05-11T09:34:02.762824500Z",
     "start_time": "2024-05-11T09:34:02.754237700Z"
    }
   },
   "id": "74365dd2997cb62c"
  },
  {
   "cell_type": "code",
   "execution_count": 36,
   "outputs": [
    {
     "data": {
      "text/plain": "False"
     },
     "execution_count": 36,
     "metadata": {},
     "output_type": "execute_result"
    }
   ],
   "source": [
    "torch.cuda.is_available()"
   ],
   "metadata": {
    "collapsed": false,
    "ExecuteTime": {
     "end_time": "2024-05-11T09:34:03.645724800Z",
     "start_time": "2024-05-11T09:34:03.614372800Z"
    }
   },
   "id": "9f50dfea2e80b52f"
  },
  {
   "cell_type": "code",
   "execution_count": 40,
   "outputs": [
    {
     "name": "stdout",
     "output_type": "stream",
     "text": [
      "Downloading https://www.cs.toronto.edu/~kriz/cifar-10-python.tar.gz to assets/cifar\\cifar-10-python.tar.gz\n"
     ]
    },
    {
     "name": "stderr",
     "output_type": "stream",
     "text": [
      "100.0%\n"
     ]
    },
    {
     "name": "stdout",
     "output_type": "stream",
     "text": [
      "Extracting assets/cifar\\cifar-10-python.tar.gz to assets/cifar\n",
      "Files already downloaded and verified\n"
     ]
    }
   ],
   "source": [
    "transform = Compose(\n",
    "    [ToTensor(),\n",
    "    Normalize((0.5,0.5,0.5), (0.5,0.5,0.5))]\n",
    ")\n",
    "\n",
    "training_data = CIFAR10(\n",
    "    root='assets/cifar',\n",
    "    train=True,\n",
    "    download=True,\n",
    "    transform=transform\n",
    ")\n",
    "\n",
    "test_data = CIFAR10(\n",
    "    root='assets/cifar',\n",
    "    train=False,\n",
    "    download=True,\n",
    "    transform=transform\n",
    ")"
   ],
   "metadata": {
    "collapsed": false,
    "ExecuteTime": {
     "end_time": "2024-05-11T09:40:37.944898400Z",
     "start_time": "2024-05-11T09:40:10.604100700Z"
    }
   },
   "id": "77809c54b668f124"
  },
  {
   "cell_type": "code",
   "execution_count": 41,
   "outputs": [],
   "source": [
    "batch_size = 5\n",
    "\n",
    "train_data_loader = DataLoader(training_data, batch_size=batch_size, shuffle=True)\n",
    "test_data_loader = DataLoader(test_data, batch_size=batch_size, shuffle=True)"
   ],
   "metadata": {
    "collapsed": false,
    "ExecuteTime": {
     "end_time": "2024-05-11T09:41:29.099741600Z",
     "start_time": "2024-05-11T09:41:29.079649200Z"
    }
   },
   "id": "b43f579fb396e1e1"
  },
  {
   "cell_type": "code",
   "execution_count": 43,
   "outputs": [
    {
     "name": "stdout",
     "output_type": "stream",
     "text": [
      "Shape of X [N, C, H, W]: torch.Size([5, 3, 32, 32])\n",
      "Shape of y: torch.Size([5]) torch.int64\n"
     ]
    }
   ],
   "source": [
    "for X, y in train_data_loader:\n",
    "    print(f\"Shape of X [N, C, H, W]: {X.shape}\")\n",
    "    print(f\"Shape of y: {y.shape} {y.dtype}\")\n",
    "    break"
   ],
   "metadata": {
    "collapsed": false,
    "ExecuteTime": {
     "end_time": "2024-05-11T09:43:16.535195700Z",
     "start_time": "2024-05-11T09:43:16.516290900Z"
    }
   },
   "id": "26e1866173d4e15a"
  },
  {
   "cell_type": "code",
   "execution_count": 51,
   "outputs": [
    {
     "name": "stderr",
     "output_type": "stream",
     "text": [
      "Clipping input data to the valid range for imshow with RGB data ([0..1] for floats or [0..255] for integers).\n"
     ]
    },
    {
     "data": {
      "text/plain": "<Figure size 640x480 with 1 Axes>",
      "image/png": "[encoded data removed]"
     },
     "metadata": {},
     "output_type": "display_data"
    },
    {
     "name": "stdout",
     "output_type": "stream",
     "text": [
      "frog  frog  cat   frog  bird \n"
     ]
    }
   ],
   "source": [
    "def imshow(img):\n",
    "  img = img / 2 + .05 # revert normalization for viewing\n",
    "  npimg = img.numpy()\n",
    "  plt.imshow(np.transpose(npimg, (1,2,0)))\n",
    "  plt.show()\n",
    "  \n",
    "classes = training_data.classes\n",
    "training_data.classes\n",
    "#['airplane',\n",
    "# 'automobile',\n",
    "# 'bird',\n",
    "# 'cat',\n",
    "# 'deer',\n",
    "# 'dog',\n",
    "# 'frog',\n",
    "# 'horse',\n",
    "# 'ship',\n",
    "# 'truck']\n",
    "\n",
    "dataiter = iter(train_data_loader)\n",
    "images, labels = next(dataiter)\n",
    "imshow(make_grid(images))\n",
    "print(' '.join(f'{classes[labels[j]]:5s}' for j in range(batch_size)))"
   ],
   "metadata": {
    "collapsed": false,
    "ExecuteTime": {
     "end_time": "2024-05-11T09:46:43.192478200Z",
     "start_time": "2024-05-11T09:46:42.931570800Z"
    }
   },
   "id": "9281bcddfb481c21"
  },
  {
   "cell_type": "code",
   "execution_count": 56,
   "outputs": [],
   "source": [
    "class NeuralNetwork(nn.Module):\n",
    "    def __init__(self):\n",
    "        super(NeuralNetwork, self).__init__()\n",
    "        self.flatten = nn.Flatten()\n",
    "        self.linear_relu_stack = nn.Sequential(\n",
    "            nn.Linear(32*32*3, 1024),\n",
    "            nn.ReLU(),\n",
    "            nn.Linear(1024, 512),\n",
    "            nn.ReLU(),\n",
    "            nn.Linear(512, 10)\n",
    "        )\n",
    "        \n",
    "    def forward(self, x):\n",
    "        x = self.flatten(x)\n",
    "        return self.linear_relu_stack(x)\n",
    "    \n",
    "model = NeuralNetwork()"
   ],
   "metadata": {
    "collapsed": false,
    "ExecuteTime": {
     "end_time": "2024-05-11T10:13:51.815667800Z",
     "start_time": "2024-05-11T10:13:51.503667Z"
    }
   },
   "id": "3374c88f13021a7b"
  },
  {
   "cell_type": "code",
   "execution_count": 57,
   "outputs": [
    {
     "name": "stdout",
     "output_type": "stream",
     "text": [
      "NeuralNetwork(\n",
      "  (flatten): Flatten(start_dim=1, end_dim=-1)\n",
      "  (linear_relu_stack): Sequential(\n",
      "    (0): Linear(in_features=3072, out_features=1024, bias=True)\n",
      "    (1): ReLU()\n",
      "    (2): Linear(in_features=1024, out_features=512, bias=True)\n",
      "    (3): ReLU()\n",
      "    (4): Linear(in_features=512, out_features=10, bias=True)\n",
      "  )\n",
      ")\n"
     ]
    }
   ],
   "source": [
    "print(model)"
   ],
   "metadata": {
    "collapsed": false,
    "ExecuteTime": {
     "end_time": "2024-05-11T10:13:58.610778300Z",
     "start_time": "2024-05-11T10:13:57.992000500Z"
    }
   },
   "id": "19a0e86e09978bcf"
  },
  {
   "cell_type": "code",
   "execution_count": 59,
   "outputs": [],
   "source": [
    "loss_fn = nn.CrossEntropyLoss()\n",
    "optimizer = torch.optim.SGD( model.parameters(), lr=0.001 )"
   ],
   "metadata": {
    "collapsed": false,
    "ExecuteTime": {
     "end_time": "2024-05-11T10:26:14.171232100Z",
     "start_time": "2024-05-11T10:26:14.151569200Z"
    }
   },
   "id": "6ef3eeafb0f09c1e"
  },
  {
   "cell_type": "code",
   "execution_count": 60,
   "outputs": [],
   "source": [
    "def train(dataloader, model, loss_fn, optimizer):\n",
    "    size = len(dataloader.dataset)\n",
    "    model.train()\n",
    "    \n",
    "    for batch, (X, y) in enumerate(dataloader):\n",
    "        pred = model(X)\n",
    "        loss = loss_fn(pred, y)\n",
    "        optimizer.zero_grad()\n",
    "        loss.backward()\n",
    "        optimizer.step()\n",
    "        \n",
    "        if batch % 2000 == 0:\n",
    "            loss, current = loss.item(), batch * len(X)\n",
    "            print(f\"loss: {loss:>7f}  [{current:>5d}/{size:>5d}]\")"
   ],
   "metadata": {
    "collapsed": false,
    "ExecuteTime": {
     "end_time": "2024-05-11T10:37:28.491081900Z",
     "start_time": "2024-05-11T10:37:28.487052700Z"
    }
   },
   "id": "4d4ef331e330ab58"
  },
  {
   "cell_type": "code",
   "execution_count": 61,
   "outputs": [],
   "source": [
    "def test(dataloader, model, loss_fn):\n",
    "    size = len(dataloader.dataset)\n",
    "    num_batches = len(dataloader)\n",
    "    model.eval()\n",
    "    test_loss, correct = 0, 0\n",
    "    with torch.no_grad():\n",
    "        for X, y in dataloader:\n",
    "            pred = model(X)\n",
    "            test_loss += loss_fn(pred, y).item()\n",
    "            correct += (pred.argmax(1) == y).type(torch.float).sum().item()\n",
    "    test_loss /= num_batches\n",
    "    correct /= size\n",
    "    print(f\"Test Error: \\n Accuracy: {(100*correct):>0.1f}%, Avg loss: {test_loss:>8f} \\n\")"
   ],
   "metadata": {
    "collapsed": false,
    "ExecuteTime": {
     "end_time": "2024-05-11T10:38:06.953599200Z",
     "start_time": "2024-05-11T10:38:06.948585500Z"
    }
   },
   "id": "4d8663d8cfcfa496"
  },
  {
   "cell_type": "code",
   "execution_count": 62,
   "outputs": [
    {
     "name": "stdout",
     "output_type": "stream",
     "text": [
      "Epoch 1\n",
      "-------------------------------\n",
      "loss: 2.315352  [    0/50000]\n",
      "loss: 2.132724  [10000/50000]\n",
      "loss: 1.843455  [20000/50000]\n",
      "loss: 1.887826  [30000/50000]\n",
      "loss: 1.999697  [40000/50000]\n",
      "Test Error: \n",
      " Accuracy: 37.9%, Avg loss: 1.766152 \n",
      "\n",
      "Epoch 2\n",
      "-------------------------------\n",
      "loss: 1.628334  [    0/50000]\n",
      "loss: 1.312815  [10000/50000]\n",
      "loss: 1.564107  [20000/50000]\n",
      "loss: 1.252832  [30000/50000]\n",
      "loss: 2.509534  [40000/50000]\n",
      "Test Error: \n",
      " Accuracy: 43.7%, Avg loss: 1.611767 \n",
      "\n",
      "Epoch 3\n",
      "-------------------------------\n",
      "loss: 1.016887  [    0/50000]\n",
      "loss: 1.022592  [10000/50000]\n",
      "loss: 2.330357  [20000/50000]\n",
      "loss: 1.304668  [30000/50000]\n",
      "loss: 0.963194  [40000/50000]\n",
      "Test Error: \n",
      " Accuracy: 46.3%, Avg loss: 1.533701 \n",
      "\n",
      "Epoch 4\n",
      "-------------------------------\n",
      "loss: 1.112357  [    0/50000]\n",
      "loss: 1.643126  [10000/50000]\n",
      "loss: 1.646065  [20000/50000]\n",
      "loss: 1.437369  [30000/50000]\n",
      "loss: 1.212695  [40000/50000]\n",
      "Test Error: \n",
      " Accuracy: 48.2%, Avg loss: 1.470781 \n",
      "\n",
      "Epoch 5\n",
      "-------------------------------\n",
      "loss: 1.424912  [    0/50000]\n",
      "loss: 1.254180  [10000/50000]\n",
      "loss: 1.447705  [20000/50000]\n",
      "loss: 1.528277  [30000/50000]\n",
      "loss: 0.904899  [40000/50000]\n",
      "Test Error: \n",
      " Accuracy: 50.1%, Avg loss: 1.428942 \n",
      "\n",
      "Epoch 6\n",
      "-------------------------------\n",
      "loss: 0.933879  [    0/50000]\n",
      "loss: 1.339877  [10000/50000]\n",
      "loss: 2.459802  [20000/50000]\n",
      "loss: 1.261682  [30000/50000]\n",
      "loss: 1.319839  [40000/50000]\n",
      "Test Error: \n",
      " Accuracy: 51.5%, Avg loss: 1.389780 \n",
      "\n",
      "Epoch 7\n",
      "-------------------------------\n",
      "loss: 1.823291  [    0/50000]\n",
      "loss: 0.812125  [10000/50000]\n",
      "loss: 0.841088  [20000/50000]\n",
      "loss: 1.096938  [30000/50000]\n",
      "loss: 0.751950  [40000/50000]\n",
      "Test Error: \n",
      " Accuracy: 52.5%, Avg loss: 1.363874 \n",
      "\n",
      "Epoch 8\n",
      "-------------------------------\n",
      "loss: 2.008325  [    0/50000]\n",
      "loss: 1.371675  [10000/50000]\n",
      "loss: 0.684479  [20000/50000]\n",
      "loss: 1.221018  [30000/50000]\n",
      "loss: 1.253329  [40000/50000]\n",
      "Test Error: \n",
      " Accuracy: 52.3%, Avg loss: 1.354625 \n",
      "\n",
      "Epoch 9\n",
      "-------------------------------\n",
      "loss: 0.366484  [    0/50000]\n",
      "loss: 1.077886  [10000/50000]\n",
      "loss: 0.781058  [20000/50000]\n",
      "loss: 0.482057  [30000/50000]\n",
      "loss: 1.495130  [40000/50000]\n",
      "Test Error: \n",
      " Accuracy: 53.2%, Avg loss: 1.329622 \n",
      "\n",
      "Epoch 10\n",
      "-------------------------------\n",
      "loss: 1.791384  [    0/50000]\n",
      "loss: 1.051175  [10000/50000]\n",
      "loss: 1.145632  [20000/50000]\n",
      "loss: 1.684221  [30000/50000]\n",
      "loss: 1.343920  [40000/50000]\n",
      "Test Error: \n",
      " Accuracy: 53.5%, Avg loss: 1.309240 \n",
      "\n",
      "Done!\n"
     ]
    }
   ],
   "source": [
    "epochs = 10\n",
    "for t in range(epochs):\n",
    "    print(f\"Epoch {t+1}\\n-------------------------------\")\n",
    "    train(train_data_loader, model, loss_fn, optimizer)\n",
    "    test(test_data_loader, model, loss_fn)\n",
    "print(\"Done!\")"
   ],
   "metadata": {
    "collapsed": false,
    "ExecuteTime": {
     "end_time": "2024-05-11T10:49:58.415482500Z",
     "start_time": "2024-05-11T10:38:33.186121900Z"
    }
   },
   "id": "51f6b74f91a50fe9"
  }
 ],
 "metadata": {
  "kernelspec": {
   "display_name": "Python 3",
   "language": "python",
   "name": "python3"
  },
  "language_info": {
   "codemirror_mode": {
    "name": "ipython",
    "version": 2
   },
   "file_extension": ".py",
   "mimetype": "text/x-python",
   "name": "python",
   "nbconvert_exporter": "python",
   "pygments_lexer": "ipython2",
   "version": "2.7.6"
  }
 },
 "nbformat": 4,
 "nbformat_minor": 5
}
