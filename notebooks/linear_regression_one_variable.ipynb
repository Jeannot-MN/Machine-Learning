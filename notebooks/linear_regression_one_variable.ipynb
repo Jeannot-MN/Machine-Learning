{
 "cells": [
  {
   "cell_type": "markdown",
   "source": [
    "# Linear Regression\n",
    ">Predicting a continuous real value output.\n",
    "\n",
    "> Some notation here:\n",
    ">> m: training set size\n",
    ">> x: input variable or features (vector in this case)\n",
    ">> y: output variable or target variable (vector in this case)\n",
    "\n",
    ">> To denote the _ith_ training example: ($\\x^i, $\\y^i)\n",
    "\n",
    "\n",
    "> In simple terms linear regression is about finding what is the mathematical relationship between the input and the output"
   ],
   "metadata": {
    "collapsed": false
   },
   "id": "d6a4c06aacf2f08d"
  },
  {
   "cell_type": "code",
   "execution_count": null,
   "outputs": [],
   "source": [],
   "metadata": {
    "collapsed": false
   },
   "id": "bc99593e507142f"
  }
 ],
 "metadata": {
  "kernelspec": {
   "display_name": "Python 3",
   "language": "python",
   "name": "python3"
  },
  "language_info": {
   "codemirror_mode": {
    "name": "ipython",
    "version": 2
   },
   "file_extension": ".py",
   "mimetype": "text/x-python",
   "name": "python",
   "nbconvert_exporter": "python",
   "pygments_lexer": "ipython2",
   "version": "2.7.6"
  }
 },
 "nbformat": 4,
 "nbformat_minor": 5
}
