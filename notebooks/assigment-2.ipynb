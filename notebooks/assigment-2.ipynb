{
 "cells": [
  {
   "cell_type": "code",
   "execution_count": 50,
   "outputs": [
    {
     "name": "stdout",
     "output_type": "stream",
     "text": [
      "0.4379\n"
     ]
    }
   ],
   "source": [
    "import numpy as np\n",
    "\n",
    "user_input = [0.85, 0.14, 0.32, 0.76, 0.21, 0.36]\n",
    "cluster_centers = [(user_input[i], user_input[i + 1]) for i in range(0, len(user_input), 2)]\n",
    "\n",
    "dataset = np.array([\n",
    "    (0.22, 0.33),\n",
    "    (0.45, 0.76),\n",
    "    (0.73, 0.39),\n",
    "    (0.25, 0.35),\n",
    "    (0.51, 0.69),\n",
    "    (0.69, 0.42),\n",
    "    (0.41, 0.49),\n",
    "    (0.15, 0.29),\n",
    "    (0.81, 0.32),\n",
    "    (0.50, 0.88),\n",
    "    (0.23, 0.31),\n",
    "    (0.77, 0.30),\n",
    "    (0.56, 0.75),\n",
    "    (0.11, 0.38),\n",
    "    (0.81, 0.33),\n",
    "    (0.59, 0.77),\n",
    "    (0.10, 0.89),\n",
    "    (0.55, 0.09),\n",
    "    (0.75, 0.35),\n",
    "    (0.44, 0.55),\n",
    "])\n",
    "\n",
    "cluster_dataset_mapping = {0: [], 1: [], 2: []}\n",
    "\n",
    "has_converged = False\n",
    "while not has_converged:\n",
    "    for i in range(len(dataset)):\n",
    "        x = dataset[i]\n",
    "        distances = list(map(lambda u: np.linalg.norm(x - np.array(u)), cluster_centers))\n",
    "        min_index = np.argmin(distances)\n",
    "        cluster_dataset_mapping[min_index].append(i)\n",
    "        \n",
    "    has_converged = True\n",
    "    for key in cluster_dataset_mapping:\n",
    "        cluster_centers_datapoint = dataset[cluster_dataset_mapping[key]]\n",
    "        mean_u = tuple(np.mean(cluster_centers_datapoint, axis=0))\n",
    "        if mean_u != cluster_centers[key]:\n",
    "            has_converged = False\n",
    "\n",
    "        cluster_centers[key] = mean_u\n",
    "    if not has_converged:\n",
    "        cluster_dataset_mapping = {0: [], 1: [], 2: []}\n",
    "\n",
    "sse = 0\n",
    "for cluster_idx, cluster_datapoints_idx in cluster_dataset_mapping.items():\n",
    "    if len(cluster_datapoints_idx) > 0:\n",
    "        cluster_datapoints = dataset[cluster_datapoints_idx]\n",
    "        cluster_sse = 0\n",
    "        for x in cluster_datapoints:\n",
    "            sse += np.linalg.norm(x - np.array(cluster_centers[cluster_idx])) ** 2\n",
    "    \n",
    "print(round(sse, 4))"
   ],
   "metadata": {
    "collapsed": false,
    "ExecuteTime": {
     "end_time": "2024-05-19T21:11:33.343302800Z",
     "start_time": "2024-05-19T21:11:33.310881100Z"
    }
   },
   "id": "f85aabff37334319"
  },
  {
   "cell_type": "code",
   "execution_count": 48,
   "outputs": [
    {
     "name": "stdout",
     "output_type": "stream",
     "text": [
      "1.1053\n"
     ]
    }
   ],
   "source": [
    "import numpy as np\n",
    "\n",
    "# User input\n",
    "\n",
    "user_input = []\n",
    "for _ in range(6):\n",
    "    user_input.append(float(input()))\n",
    "\n",
    "# Calculate cluster centers\n",
    "cluster_centers = np.array([(user_input[i], user_input[i + 1]) for i in range(0, len(user_input), 2)])\n",
    "\n",
    "# Dataset\n",
    "dataset = np.array([\n",
    "    (0.22, 0.33), (0.45, 0.76), (0.73, 0.39), (0.25, 0.35), (0.51, 0.69),\n",
    "    (0.69, 0.42), (0.41, 0.49), (0.15, 0.29), (0.81, 0.32), (0.50, 0.88),\n",
    "    (0.23, 0.31), (0.77, 0.30), (0.56, 0.75), (0.11, 0.38), (0.81, 0.33),\n",
    "    (0.59, 0.77), (0.10, 0.89), (0.55, 0.09), (0.75, 0.35), (0.44, 0.55)\n",
    "])\n",
    "\n",
    "cluster_dataset_mapping = {i: [] for i in range(len(cluster_centers))}\n",
    "\n",
    "distances = np.linalg.norm(dataset[:, np.newaxis] - cluster_centers, axis=2) ** 2\n",
    "\n",
    "has_converged = False\n",
    "while not has_converged:\n",
    "    for key in cluster_dataset_mapping:\n",
    "        cluster_dataset_mapping[key] = []\n",
    "\n",
    "    cluster_labels = np.argmin(distances, axis=1)\n",
    "    for i, label in enumerate(cluster_labels):\n",
    "        cluster_dataset_mapping[label].append(i)\n",
    "\n",
    "    new_cluster_centers = np.array([np.mean(dataset[indices], axis=0) for indices in cluster_dataset_mapping.values()])\n",
    "\n",
    "    if np.allclose(cluster_centers, new_cluster_centers):\n",
    "        has_converged = True\n",
    "    else:\n",
    "        cluster_centers = new_cluster_centers\n",
    "        distances = np.linalg.norm(dataset[:, np.newaxis] - cluster_centers, axis=2) ** 2\n",
    "\n",
    "sse = 0\n",
    "for cluster_idx, cluster_datapoints_idx in cluster_dataset_mapping.items():\n",
    "    cluster_datapoints = dataset[cluster_datapoints_idx]\n",
    "    cluster_sse = np.sum(np.linalg.norm(cluster_datapoints - cluster_centers[cluster_idx], axis=1) ** 2)\n",
    "    sse += cluster_sse\n",
    "\n",
    "print(round(sse, 4))"
   ],
   "metadata": {
    "collapsed": false,
    "ExecuteTime": {
     "end_time": "2024-05-18T19:22:09.607072100Z",
     "start_time": "2024-05-18T19:22:09.595678200Z"
    }
   },
   "id": "ab371452f19e86f3"
  },
  {
   "cell_type": "code",
   "execution_count": 70,
   "outputs": [
    {
     "name": "stdout",
     "output_type": "stream",
     "text": [
      "{0: [1, 3, 4, 6, 8, 11, 12], 1: [0, 2, 5, 7, 9, 10, 13], 2: []}\n",
      "{0: [1, 3, 4, 6, 8, 11, 12], 1: [0, 2, 5, 7, 9, 10, 13]}\n",
      "0.3585\n"
     ]
    }
   ],
   "source": [
    "user_input = [0.85, 0.14, 0.32, 0.76, 0.21, 0.36]\n",
    "\n",
    "cluster_centers = np.array([(user_input[i], user_input[i + 1]) for i in range(0, len(user_input), 2)])\n",
    "\n",
    "# Dataset\n",
    "dataset = np.array([\n",
    "    # (0.22, 0.33), \n",
    "    (0.45, 0.76), (0.73, 0.39),\n",
    "    # (0.25, 0.35), \n",
    "    (0.51, 0.69),\n",
    "    (0.69, 0.42), \n",
    "    # (0.41, 0.49), (0.15, 0.29), \n",
    "    (0.81, 0.32), (0.50, 0.88),\n",
    "    # (0.23, 0.31), \n",
    "    (0.77, 0.30), (0.56, 0.75), \n",
    "    # (0.11, 0.38), \n",
    "    (0.81, 0.33),\n",
    "    (0.59, 0.77), (0.10, 0.89), (0.55, 0.09), (0.75, 0.35), (0.44, 0.55)\n",
    "])\n",
    "\n",
    "cluster_dataset_mapping = {i: [] for i in range(len(cluster_centers))}\n",
    "\n",
    "distances = np.linalg.norm(dataset[:, np.newaxis] - cluster_centers, axis=2) ** 2\n",
    "\n",
    "has_converged = False\n",
    "while not has_converged:\n",
    "    for key in cluster_dataset_mapping:\n",
    "        cluster_dataset_mapping[key] = []\n",
    "\n",
    "    cluster_labels = np.argmin(distances, axis=1)\n",
    "    for i, label in enumerate(cluster_labels):\n",
    "        cluster_dataset_mapping[label].append(i)\n",
    "        \n",
    "    print(cluster_dataset_mapping)\n",
    "\n",
    "    new_cluster_centers = np.array([np.mean(dataset[indices], axis=0) for indices in cluster_dataset_mapping.values() if indices])\n",
    "\n",
    "    if (len(cluster_centers) == len(new_cluster_centers)) and np.allclose(cluster_centers, new_cluster_centers):\n",
    "        has_converged = True\n",
    "    else:\n",
    "        cluster_centers = new_cluster_centers\n",
    "        cluster_dataset_mapping = {i: [] for i in range(len(cluster_centers))}\n",
    "        distances = np.linalg.norm(dataset[:, np.newaxis] - cluster_centers, axis=2) ** 2\n",
    "\n",
    "sse = 0\n",
    "for cluster_idx, cluster_datapoints_idx in cluster_dataset_mapping.items():\n",
    "    cluster_datapoints = dataset[cluster_datapoints_idx]\n",
    "    cluster_sse = np.sum(np.linalg.norm(cluster_datapoints - cluster_centers[cluster_idx], axis=1) ** 2)\n",
    "    sse += cluster_sse\n",
    "\n",
    "print(round(sse, 4))"
   ],
   "metadata": {
    "collapsed": false,
    "ExecuteTime": {
     "end_time": "2024-05-19T21:47:33.245370900Z",
     "start_time": "2024-05-19T21:47:33.201275400Z"
    }
   },
   "id": "84400d0a3b36b80"
  },
  {
   "cell_type": "code",
   "execution_count": 62,
   "outputs": [
    {
     "name": "stdout",
     "output_type": "stream",
     "text": [
      "False\n"
     ]
    }
   ],
   "source": [
    "print((len([1,2,3]) == len([1,2])) && np.allclose([1,2,3], [1,2]))"
   ],
   "metadata": {
    "collapsed": false,
    "ExecuteTime": {
     "end_time": "2024-05-19T21:38:25.211547200Z",
     "start_time": "2024-05-19T21:38:25.134369500Z"
    }
   },
   "id": "e8243c9f503abcd8"
  },
  {
   "cell_type": "code",
   "execution_count": 72,
   "outputs": [
    {
     "name": "stdout",
     "output_type": "stream",
     "text": [
      "0.4379\n"
     ]
    }
   ],
   "source": [
    "user_input = [0.85, 0.14, 0.32, 0.76, 0.21, 0.36]\n",
    "cluster_centers = np.array([(user_input[i], user_input[i + 1]) for i in range(0, len(user_input), 2)])\n",
    "\n",
    "# Dataset\n",
    "dataset = np.array([\n",
    "    (0.22, 0.33), (0.45, 0.76), (0.73, 0.39), (0.25, 0.35), (0.51, 0.69),\n",
    "    (0.69, 0.42), (0.41, 0.49), (0.15, 0.29), (0.81, 0.32), (0.50, 0.88),\n",
    "    (0.23, 0.31), (0.77, 0.30), (0.56, 0.75), (0.11, 0.38), (0.81, 0.33),\n",
    "    (0.59, 0.77), (0.10, 0.89), (0.55, 0.09), (0.75, 0.35), (0.44, 0.55)\n",
    "])\n",
    "\n",
    "cluster_dataset_mapping = {i: [] for i in range(len(cluster_centers))}\n",
    "\n",
    "distances = np.linalg.norm(dataset[:, np.newaxis] - cluster_centers, axis=2) ** 2\n",
    "\n",
    "has_converged = False\n",
    "while not has_converged:\n",
    "    cluster_labels = np.argmin(distances, axis=1)\n",
    "    for i, label in enumerate(cluster_labels):\n",
    "        cluster_dataset_mapping[label].append(i)\n",
    "\n",
    "    new_cluster_centers = np.array([np.mean(dataset[indices], axis=0) for indices in cluster_dataset_mapping.values() if indices])\n",
    "\n",
    "    if (len(cluster_centers) == len(new_cluster_centers)) and np.allclose(cluster_centers, new_cluster_centers):\n",
    "        has_converged = True\n",
    "    else:\n",
    "        cluster_centers = new_cluster_centers\n",
    "        cluster_dataset_mapping = {i: [] for i in range(len(cluster_centers))}\n",
    "        distances = np.linalg.norm(dataset[:, np.newaxis] - cluster_centers, axis=2) ** 2\n",
    "\n",
    "sse = 0\n",
    "for cluster_idx, cluster_datapoints_idx in cluster_dataset_mapping.items():\n",
    "    cluster_datapoints = dataset[cluster_datapoints_idx]\n",
    "    cluster_sse = np.sum(np.linalg.norm(cluster_datapoints - cluster_centers[cluster_idx], axis=1) ** 2)\n",
    "    sse += cluster_sse\n",
    "\n",
    "print(round(sse, 4))"
   ],
   "metadata": {
    "collapsed": false,
    "ExecuteTime": {
     "end_time": "2024-05-19T21:48:55.121496Z",
     "start_time": "2024-05-19T21:48:55.104172900Z"
    }
   },
   "id": "2d2c5b9b7a57d3e9"
  }
 ],
 "metadata": {
  "kernelspec": {
   "display_name": "Python 3",
   "language": "python",
   "name": "python3"
  },
  "language_info": {
   "codemirror_mode": {
    "name": "ipython",
    "version": 2
   },
   "file_extension": ".py",
   "mimetype": "text/x-python",
   "name": "python",
   "nbconvert_exporter": "python",
   "pygments_lexer": "ipython2",
   "version": "2.7.6"
  }
 },
 "nbformat": 4,
 "nbformat_minor": 5
}
